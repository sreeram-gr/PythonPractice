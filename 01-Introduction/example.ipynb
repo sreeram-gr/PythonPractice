{
 "cells": [
  {
   "cell_type": "code",
   "execution_count": 1,
   "metadata": {},
   "outputs": [
    {
     "name": "stdout",
     "output_type": "stream",
     "text": [
      "[2, 'three', '4', 5]\n",
      "[1, 'two', 3, 'four']\n",
      "[2, 'three', '4', 5, 1, 'two', 3, 'four']\n"
     ]
    }
   ],
   "source": [
    "x_list=[2,\"three\",\"4\", 5]\n",
    "y_list=[1,\"two\",3,\"four\"]\n",
    "sum_list=x_list+y_list\n",
    "print(x_list)\n",
    "print(y_list)\n",
    "print(sum_list)"
   ]
  },
  {
   "cell_type": "code",
   "execution_count": 2,
   "metadata": {},
   "outputs": [
    {
     "name": "stdout",
     "output_type": "stream",
     "text": [
      "15\n"
     ]
    }
   ],
   "source": [
    "sum=1+2+3+\\\n",
    "4+5\n",
    "print(sum)"
   ]
  },
  {
   "cell_type": "code",
   "execution_count": 3,
   "metadata": {},
   "outputs": [
    {
     "name": "stdout",
     "output_type": "stream",
     "text": [
      "<class 'int'>\n"
     ]
    }
   ],
   "source": [
    "print(type(sum))"
   ]
  },
  {
   "cell_type": "code",
   "execution_count": 4,
   "metadata": {},
   "outputs": [
    {
     "name": "stdout",
     "output_type": "stream",
     "text": [
      "5\n"
     ]
    }
   ],
   "source": [
    "x=2;y=3;print(x+y)"
   ]
  },
  {
   "cell_type": "code",
   "execution_count": 5,
   "metadata": {},
   "outputs": [
    {
     "name": "stdout",
     "output_type": "stream",
     "text": [
      "Hello,\n",
      "Hi\n",
      "Hello, Hi\n",
      "Hello, Hi\n"
     ]
    }
   ],
   "source": [
    "#Ask user for the name\n",
    "\n",
    "name = 'Hi'\n",
    "\n",
    "#Say hello to the user\n",
    "print(\"Hello,\")\n",
    "print(name)\n",
    "\n",
    "#print(\"input, sep=\" \",end=\"\\n\"\")\n",
    "\n",
    "print(\"Hello,\", name)\n",
    "\n",
    "print(f\"Hello, {name}\")"
   ]
  },
  {
   "cell_type": "code",
   "execution_count": 1,
   "metadata": {},
   "outputs": [
    {
     "name": "stdout",
     "output_type": "stream",
     "text": [
      "<class 'int'>\n",
      "<class 'str'>\n",
      "<class 'float'>\n"
     ]
    }
   ],
   "source": [
    "#Dynamic typing\n",
    "var = 10\n",
    "print(type(var))\n",
    "\n",
    "var ='sree'\n",
    "print(type(var))\n",
    "\n",
    "var=2.14\n",
    "print(type(var))\n"
   ]
  },
  {
   "cell_type": "code",
   "execution_count": 2,
   "metadata": {},
   "outputs": [
    {
     "name": "stdout",
     "output_type": "stream",
     "text": [
      "sreeram <class 'str'>\n"
     ]
    }
   ],
   "source": [
    "name=input(\"enter your name\")\n",
    "print(name, type(name))"
   ]
  },
  {
   "cell_type": "code",
   "execution_count": 3,
   "metadata": {},
   "outputs": [
    {
     "name": "stdout",
     "output_type": "stream",
     "text": [
      "45 <class 'str'>\n",
      "32 <class 'int'>\n"
     ]
    }
   ],
   "source": [
    "# type cast the inputs\n",
    "\n",
    "number = input(\"enter any numbers\")\n",
    "print(number, type(number))\n",
    "\n",
    "number = int(input(\"enter number\"))\n",
    "print(number, type(number))\n"
   ]
  },
  {
   "cell_type": "code",
   "execution_count": 4,
   "metadata": {},
   "outputs": [
    {
     "data": {
      "text/plain": [
       "bool"
      ]
     },
     "execution_count": 4,
     "metadata": {},
     "output_type": "execute_result"
    }
   ],
   "source": [
    "is_true=True\n",
    "\n",
    "type(is_true)"
   ]
  },
  {
   "cell_type": "code",
   "execution_count": null,
   "metadata": {},
   "outputs": [],
   "source": []
  }
 ],
 "metadata": {
  "kernelspec": {
   "display_name": "Python 3",
   "language": "python",
   "name": "python3"
  },
  "language_info": {
   "codemirror_mode": {
    "name": "ipython",
    "version": 3
   },
   "file_extension": ".py",
   "mimetype": "text/x-python",
   "name": "python",
   "nbconvert_exporter": "python",
   "pygments_lexer": "ipython3",
   "version": "3.12.4"
  }
 },
 "nbformat": 4,
 "nbformat_minor": 2
}
